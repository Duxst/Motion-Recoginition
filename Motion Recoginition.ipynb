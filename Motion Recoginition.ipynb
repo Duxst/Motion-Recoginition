{
 "cells": [
  {
   "cell_type": "code",
   "execution_count": 1,
   "metadata": {},
   "outputs": [],
   "source": [
    "import cv2 as cv"
   ]
  },
  {
   "cell_type": "markdown",
   "metadata": {},
   "source": [
    "# Visualizing moving objects in video"
   ]
  },
  {
   "cell_type": "code",
   "execution_count": 2,
   "metadata": {},
   "outputs": [
    {
     "ename": "error",
     "evalue": "OpenCV(4.10.0) D:\\a\\opencv-python\\opencv-python\\opencv\\modules\\highgui\\src\\window.cpp:1301: error: (-2:Unspecified error) The function is not implemented. Rebuild the library with Windows, GTK+ 2.x or Cocoa support. If you are on Ubuntu or Debian, install libgtk2.0-dev and pkg-config, then re-run cmake or configure script in function 'cvShowImage'\n",
     "output_type": "error",
     "traceback": [
      "\u001b[1;31m---------------------------------------------------------------------------\u001b[0m",
      "\u001b[1;31merror\u001b[0m                                     Traceback (most recent call last)",
      "Cell \u001b[1;32mIn[2], line 23\u001b[0m\n\u001b[0;32m     20\u001b[0m out\u001b[38;5;241m.\u001b[39mwrite(edges)  \u001b[38;5;66;03m# Write the processed frame to the output file\u001b[39;00m\n\u001b[0;32m     22\u001b[0m \u001b[38;5;66;03m# Display the original frame, mask, and edges\u001b[39;00m\n\u001b[1;32m---> 23\u001b[0m \u001b[43mcv\u001b[49m\u001b[38;5;241;43m.\u001b[39;49m\u001b[43mimshow\u001b[49m\u001b[43m(\u001b[49m\u001b[38;5;124;43m'\u001b[39;49m\u001b[38;5;124;43mOriginal\u001b[39;49m\u001b[38;5;124;43m'\u001b[39;49m\u001b[43m,\u001b[49m\u001b[43m \u001b[49m\u001b[43mframe\u001b[49m\u001b[43m)\u001b[49m\n\u001b[0;32m     24\u001b[0m cv\u001b[38;5;241m.\u001b[39mimshow(\u001b[38;5;124m'\u001b[39m\u001b[38;5;124mMask\u001b[39m\u001b[38;5;124m'\u001b[39m, mask)\n\u001b[0;32m     25\u001b[0m cv\u001b[38;5;241m.\u001b[39mimshow(\u001b[38;5;124m'\u001b[39m\u001b[38;5;124mEdges\u001b[39m\u001b[38;5;124m'\u001b[39m, edges)\n",
      "\u001b[1;31merror\u001b[0m: OpenCV(4.10.0) D:\\a\\opencv-python\\opencv-python\\opencv\\modules\\highgui\\src\\window.cpp:1301: error: (-2:Unspecified error) The function is not implemented. Rebuild the library with Windows, GTK+ 2.x or Cocoa support. If you are on Ubuntu or Debian, install libgtk2.0-dev and pkg-config, then re-run cmake or configure script in function 'cvShowImage'\n"
     ]
    }
   ],
   "source": [
    "\n",
    "# Capture video from the default camera\n",
    "video = cv.VideoCapture(0)\n",
    "\n",
    "# Get the width and height of the frame\n",
    "frame_width = int(video.get(3))\n",
    "frame_height = int(video.get(4))\n",
    "\n",
    "# Define the codec and create VideoWriter object to save the output video\n",
    "out = cv.VideoWriter('output.avi', cv.VideoWriter_fourcc('M','J','P','G'), 10, (frame_width, frame_height), False)\n",
    "\n",
    "# Create subtractor object\n",
    "subtractor = cv.createBackgroundSubtractorMOG2(20, 50)\n",
    "\n",
    "# Visualize the data, create an endless loop, and visualize the video frame by frame\n",
    "while True:\n",
    "    ret, frame = video.read()\n",
    "    if ret:\n",
    "        mask = subtractor.apply(frame)\n",
    "        edges = cv.Canny(mask, 100, 200)  # Apply Canny edge detection on the mask\n",
    "        out.write(edges)  # Write the processed frame to the output file\n",
    "        \n",
    "        # Display the original frame, mask, and edges\n",
    "        cv.imshow('Original', frame)\n",
    "        cv.imshow('Mask', mask)\n",
    "        cv.imshow('Edges', edges)\n",
    "\n",
    "        if cv.waitKey(5) == ord('x'):  # Use 'x' instead of 'X' to avoid case sensitivity issues\n",
    "            break\n",
    "    else:\n",
    "        break  # Exit the loop if there's an issue with the camera\n",
    "\n",
    "# Release everything\n",
    "cv.destroyAllWindows()\n",
    "video.release()\n",
    "out.release()\n"
   ]
  }
 ],
 "metadata": {
  "kernelspec": {
   "display_name": "Python 3",
   "language": "python",
   "name": "python3"
  },
  "language_info": {
   "codemirror_mode": {
    "name": "ipython",
    "version": 3
   },
   "file_extension": ".py",
   "mimetype": "text/x-python",
   "name": "python",
   "nbconvert_exporter": "python",
   "pygments_lexer": "ipython3",
   "version": "3.12.3"
  }
 },
 "nbformat": 4,
 "nbformat_minor": 2
}
